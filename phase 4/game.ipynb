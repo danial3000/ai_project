{
 "cells": [
  {
   "cell_type": "markdown",
   "source": [
    "# First Order Logic"
   ],
   "metadata": {
    "collapsed": false,
    "id": "x7knW7ffdYqY"
   }
  },
  {
   "cell_type": "markdown",
   "source": [
    "# Libraries"
   ],
   "metadata": {
    "collapsed": false,
    "id": "MqcP3FjudYqa"
   }
  },
  {
   "cell_type": "code",
   "execution_count": null,
   "outputs": [],
   "source": [
    "import pygame\n",
    "import numpy as np\n",
    "import copy\n",
    "from pyswip import Prolog"
   ],
   "metadata": {
    "ExecuteTime": {
     "end_time": "2025-01-01T11:07:12.333603900Z",
     "start_time": "2025-01-01T11:07:12.328130900Z"
    },
    "id": "pG3Ud4uedYqa"
   }
  },
  {
   "cell_type": "markdown",
   "source": [
    "# Environment Theme\n",
    "#### Don't Change this part"
   ],
   "metadata": {
    "collapsed": false,
    "id": "37QDFmZtdYqb"
   }
  },
  {
   "cell_type": "code",
   "execution_count": null,
   "outputs": [],
   "source": [
    "GRID_SIZE = 8\n",
    "TILE_SIZE = 100\n",
    "background = (106, 70, 205)"
   ],
   "metadata": {
    "ExecuteTime": {
     "end_time": "2025-01-01T11:07:14.058741800Z",
     "start_time": "2025-01-01T11:07:14.051579500Z"
    },
    "id": "UK_EGrtCdYqb"
   }
  },
  {
   "cell_type": "markdown",
   "source": [
    "# Environment\n",
    "#### Don't Change this part"
   ],
   "metadata": {
    "collapsed": false,
    "id": "-s7qoNDKdYqc"
   }
  },
  {
   "cell_type": "code",
   "execution_count": null,
   "outputs": [],
   "source": [
    "class PygameInit:\n",
    "\n",
    "    @classmethod\n",
    "    def initialization(cls):\n",
    "        grid_size_x = GRID_SIZE\n",
    "        grid_size_y = GRID_SIZE\n",
    "        tile_size = TILE_SIZE\n",
    "\n",
    "        pygame.init()\n",
    "        screen = pygame.display.set_mode((grid_size_x * tile_size, grid_size_y * tile_size))\n",
    "        pygame.display.set_caption(\"FOL\")\n",
    "        clock = pygame.time.Clock()\n",
    "\n",
    "        return screen, clock\n",
    "\n",
    "class FirstOrderAngry:\n",
    "    def __init__(self, template: str):\n",
    "        self.__grid_size = GRID_SIZE\n",
    "        self.__tile_size = TILE_SIZE\n",
    "        self.__template_name = template\n",
    "\n",
    "        self.__base_grid = self.__generate_grid()\n",
    "        self.grid = copy.deepcopy(self.__base_grid)\n",
    "        self.__base_grid = copy.deepcopy(self.grid)\n",
    "\n",
    "        self.__bird_image = pygame.image.load('Env/icons/angry-birds.png')\n",
    "        self.__bird_image = pygame.transform.scale(self.__bird_image, (self.__tile_size, self.__tile_size))\n",
    "        self.__bird_with_background = pygame.Surface((self.__tile_size, self.__tile_size))\n",
    "        self.__bird_with_background.fill(background)\n",
    "        self.__bird_with_background.blit(self.__bird_image, (0, 0))\n",
    "\n",
    "        self.__pig_image = pygame.image.load('Env/icons/pigs.png')\n",
    "        self.__pig_image = pygame.transform.scale(self.__pig_image, (self.__tile_size, self.__tile_size))\n",
    "        self.__pig_with_background = pygame.Surface((self.__tile_size, self.__tile_size))\n",
    "        self.__pig_with_background.fill(background)\n",
    "        self.__pig_with_background.blit(self.__pig_image, (0, 0))\n",
    "\n",
    "        self.__rock_image = pygame.image.load('Env/icons/rocks.png')\n",
    "        self.__rock_image = pygame.transform.scale(self.__rock_image, (self.__tile_size, self.__tile_size))\n",
    "        self.__rock_with_background = pygame.Surface((self.__tile_size, self.__tile_size))\n",
    "        self.__rock_with_background.fill(background)\n",
    "        self.__rock_with_background.blit(self.__rock_image, (0, 0))\n",
    "\n",
    "\n",
    "    def __generate_grid(self):\n",
    "        grid = [['T' for _ in range(self.__grid_size)] for _ in range(self.__grid_size)]\n",
    "\n",
    "        with open(f'Env/templates/{self.__template_name}.txt') as file:\n",
    "            template_str = file.readlines()\n",
    "\n",
    "        for i in range(self.__grid_size):\n",
    "            for j in range(self.__grid_size):\n",
    "                grid[i][j] = template_str[i][j]\n",
    "\n",
    "        return grid\n",
    "\n",
    "    def reset(self):\n",
    "        self.grid = copy.deepcopy(self.__base_grid)\n",
    "\n",
    "    def bird_step(self, action):\n",
    "        bird_pos = self.get_bird_position()\n",
    "        actions = {\n",
    "            0: (-1, 0),  # Up\n",
    "            1: (1, 0),   # Down\n",
    "            2: (0, -1),  # Left\n",
    "            3: (0, 1)    # Right\n",
    "        }\n",
    "\n",
    "        dx, dy = actions[action]\n",
    "        new_row, new_col = bird_pos[0] + dx, bird_pos[1] + dy\n",
    "\n",
    "        if self.__is_valid_for_bird_position(self.grid, new_row, new_col):\n",
    "            self.grid[bird_pos[0]][bird_pos[1]] = 'T'\n",
    "            bird_pos = (new_row, new_col)\n",
    "            self.grid[bird_pos[0]][bird_pos[1]] = 'B'\n",
    "\n",
    "        is_win = self.is_win()\n",
    "        return bird_pos, is_win\n",
    "\n",
    "\n",
    "    def get_bird_position(self):\n",
    "        for r in range(len(self.grid)):\n",
    "            for c in range(len(self.grid)):\n",
    "                if self.grid[r][c] == 'B':\n",
    "                    return tuple([r, c])\n",
    "\n",
    "\n",
    "    def is_win(self):\n",
    "        for r in range(len(self.grid)):\n",
    "            for c in range(len(self.grid)):\n",
    "                if self.grid[r][c] == 'P':\n",
    "                    return False\n",
    "        return True\n",
    "\n",
    "\n",
    "    def render(self, screen):\n",
    "        for r in range(self.__grid_size):\n",
    "            for c in range(self.__grid_size):\n",
    "                color = background\n",
    "                pygame.draw.rect(screen, color, (c * self.__tile_size, r * self.__tile_size, self.__tile_size,\n",
    "                                                 self.__tile_size))\n",
    "                if self.grid[r][c] == 'B':\n",
    "                    screen.blit(self.__bird_with_background, (c * self.__tile_size, r * self.__tile_size))\n",
    "\n",
    "                if self.grid[r][c] == 'R':\n",
    "                    screen.blit(self.__rock_with_background, (c * self.__tile_size, r * self.__tile_size))\n",
    "\n",
    "                if self.grid[r][c] == 'P':\n",
    "                    screen.blit(self.__pig_with_background, (c * self.__tile_size, r * self.__tile_size))\n",
    "\n",
    "        for r in range(self.__grid_size + 1):\n",
    "            pygame.draw.line(screen, (0, 0, 0), (0, r * self.__tile_size), (self.__grid_size * self.__tile_size,\n",
    "                                                                            r * self.__tile_size), 2)\n",
    "        for c in range(self.__grid_size + 1):\n",
    "            pygame.draw.line(screen, (0, 0, 0), (c * self.__tile_size, 0), (c * self.__tile_size,\n",
    "                                                                            self.__grid_size * self.__tile_size), 2)\n",
    "            \n",
    "        # نمایش وضعیت برد\n",
    "        if self.is_win():\n",
    "            font = pygame.font.Font(None, 74)\n",
    "            text = font.render(\"You Win!\", True, (255, 255, 255))\n",
    "            screen.blit(text, (self.__grid_size * self.__tile_size // 3, self.__grid_size * self.__tile_size // 3))\n",
    "\n",
    "    @classmethod\n",
    "    def __is_valid_for_bird_position(cls, grid, new_row, new_col):\n",
    "        return (0 <= new_row < len(grid)\n",
    "                and 0 <= new_col < len(grid)\n",
    "                and grid[new_row][new_col] != 'R')"
   ],
   "metadata": {
    "ExecuteTime": {
     "end_time": "2025-01-01T11:07:16.032837900Z",
     "start_time": "2025-01-01T11:07:16.009366900Z"
    },
    "id": "Je7CRZQ9dYqc"
   }
  },
  {
   "cell_type": "markdown",
   "source": [
    "# Knowledge base"
   ],
   "metadata": {
    "collapsed": false,
    "id": "kLJVR7crdYqd"
   }
  },
  {
   "cell_type": "code",
   "execution_count": null,
   "outputs": [],
   "source": [
    "prolog = Prolog()\n",
    "prolog.consult(\"x.pl\")\n",
    "\n",
    "# دریافت مسیر حرکت از Prolog\n",
    "def get_actions_from_prolog(start_position):\n",
    "    # تبدیل موقعیت شروع به فرمت Prolog\n",
    "    start_str = f\"({start_position[0]}, {start_position[1]})\"\n",
    "    \n",
    "    # ارسال کوئری به Prolog\n",
    "    query = f\"solve_path_with_actions({start_str}, Directions)\"\n",
    "    for result in prolog.query(query):\n",
    "        directions = result[\"Directions\"]\n",
    "        return [str(direction) for direction in directions]  # تبدیل به لیست رشته\n",
    "    return []\n"
   ],
   "metadata": {
    "ExecuteTime": {
     "end_time": "2025-01-01T10:58:41.003560200Z",
     "start_time": "2025-01-01T10:58:40.906864100Z"
    },
    "id": "EZGCqAogdYqd"
   }
  },
  {
   "cell_type": "markdown",
   "source": [
    "# Game"
   ],
   "metadata": {
    "collapsed": false,
    "id": "zX4W0qrcdYqd"
   }
  },
  {
   "cell_type": "code",
   "execution_count": null,
   "outputs": [
    {
     "name": "stdout",
     "output_type": "stream",
     "text": [
      "Win\n"
     ]
    }
   ],
   "source": [
    "env = FirstOrderAngry(template='simple')\n",
    "\n",
    "screen, clock = PygameInit.initialization()\n",
    "FPS = 8\n",
    "\n",
    "env.reset()\n",
    "\n",
    "# نگاشت کنش‌های Prolog به مقادیر عددی تابع bird_step\n",
    "action_mapping = {\n",
    "    \"up\": 0,      # حرکت به بالا\n",
    "    \"down\": 1,    # حرکت به پایین\n",
    "    \"left\": 2,    # حرکت به چپ\n",
    "    \"right\": 3    # حرکت به راست\n",
    "}\n",
    "\n",
    "# مقداردهی اولیه\n",
    "start_position = env.get_bird_position()  # دریافت موقعیت اولیه پرنده\n",
    "actions = get_actions_from_prolog(start_position)  # دریافت کنش‌ها از Prolog\n",
    "\n",
    "\n",
    "# اجرای حلقه بازی با مسیر Prolog\n",
    "for action in actions:\n",
    "    mapped_action = action_mapping[action]  # تبدیل کنش به مقدار عددی\n",
    "    bird_pos, is_win = env.bird_step(mapped_action)  # حرکت پرنده\n",
    "    print(f\"Bird moved to {bird_pos}\")\n",
    "    \n",
    "    # بررسی برد\n",
    "    if is_win:\n",
    "        print(\"All pigs eaten! You win!\")\n",
    "        break\n",
    "\n",
    "    # رندر محیط بازی\n",
    "    env.render(screen)\n",
    "    pygame.display.flip()\n",
    "    clock.tick(FPS)\n",
    "\n",
    "pygame.quit()"
   ],
   "metadata": {
    "ExecuteTime": {
     "end_time": "2025-01-01T11:09:31.461387800Z",
     "start_time": "2025-01-01T11:07:22.355264500Z"
    },
    "id": "m2DALNGadYqe",
    "outputId": "e4f2bfe2-2aa9-4ba3-dd6c-e2c903c0e8fd"
   }
  }
 ],
 "metadata": {
  "kernelspec": {
   "display_name": "Python 3",
   "language": "python",
   "name": "python3"
  },
  "language_info": {
   "codemirror_mode": {
    "name": "ipython",
    "version": 2
   },
   "file_extension": ".py",
   "mimetype": "text/x-python",
   "name": "python",
   "nbconvert_exporter": "python",
   "pygments_lexer": "ipython2",
   "version": "2.7.6"
  },
  "colab": {
   "provenance": []
  }
 },
 "nbformat": 4,
 "nbformat_minor": 0
}
