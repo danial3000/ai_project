{
 "cells": [
  {
   "cell_type": "markdown",
   "source": [
    "# First Order Logic"
   ],
   "metadata": {
    "collapsed": false,
    "id": "x7knW7ffdYqY"
   }
  },
  {
   "cell_type": "markdown",
   "source": "## Libraries",
   "metadata": {
    "collapsed": false,
    "id": "MqcP3FjudYqa"
   }
  },
  {
   "cell_type": "code",
   "source": [
    "import pygame\n",
    "import copy\n",
    "from pyswip import Prolog\n"
   ],
   "metadata": {
    "id": "pG3Ud4uedYqa",
    "ExecuteTime": {
     "end_time": "2025-01-16T18:10:44.952433Z",
     "start_time": "2025-01-16T18:10:44.949672Z"
    }
   },
   "outputs": [],
   "execution_count": 9
  },
  {
   "cell_type": "markdown",
   "source": [
    "## Environment Theme\n",
    "#### Don't Change this part"
   ],
   "metadata": {
    "collapsed": false,
    "id": "37QDFmZtdYqb"
   }
  },
  {
   "cell_type": "code",
   "source": [
    "GRID_SIZE = 8\n",
    "TILE_SIZE = 100\n",
    "background = (106, 70, 205)"
   ],
   "metadata": {
    "id": "UK_EGrtCdYqb",
    "ExecuteTime": {
     "end_time": "2025-01-16T18:10:44.968511Z",
     "start_time": "2025-01-16T18:10:44.965728Z"
    }
   },
   "outputs": [],
   "execution_count": 10
  },
  {
   "cell_type": "markdown",
   "source": [
    "## Environment\n",
    "#### Don't Change this part"
   ],
   "metadata": {
    "collapsed": false,
    "id": "-s7qoNDKdYqc"
   }
  },
  {
   "cell_type": "code",
   "source": [
    "class PygameInit:\n",
    "\n",
    "    @classmethod\n",
    "    def initialization(cls):\n",
    "        grid_size_x = GRID_SIZE\n",
    "        grid_size_y = GRID_SIZE\n",
    "        tile_size = TILE_SIZE\n",
    "\n",
    "        pygame.init()\n",
    "        screen = pygame.display.set_mode((grid_size_x * tile_size, grid_size_y * tile_size))\n",
    "        pygame.display.set_caption(\"FOL\")\n",
    "        clock = pygame.time.Clock()\n",
    "\n",
    "        return screen, clock\n",
    "\n",
    "class FirstOrderAngry:\n",
    "    def __init__(self, template: str):\n",
    "        self.__grid_size = GRID_SIZE\n",
    "        self.__tile_size = TILE_SIZE\n",
    "        self.__template_name = template\n",
    "\n",
    "        self.__base_grid = self.__generate_grid()\n",
    "        self.grid = copy.deepcopy(self.__base_grid)\n",
    "        self.__base_grid = copy.deepcopy(self.grid)\n",
    "\n",
    "        self.__bird_image = pygame.image.load('Env/icons/angry-birds.png')\n",
    "        self.__bird_image = pygame.transform.scale(self.__bird_image, (self.__tile_size, self.__tile_size))\n",
    "        self.__bird_with_background = pygame.Surface((self.__tile_size, self.__tile_size))\n",
    "        self.__bird_with_background.fill(background)\n",
    "        self.__bird_with_background.blit(self.__bird_image, (0, 0))\n",
    "\n",
    "        self.__pig_image = pygame.image.load('Env/icons/pigs.png')\n",
    "        self.__pig_image = pygame.transform.scale(self.__pig_image, (self.__tile_size, self.__tile_size))\n",
    "        self.__pig_with_background = pygame.Surface((self.__tile_size, self.__tile_size))\n",
    "        self.__pig_with_background.fill(background)\n",
    "        self.__pig_with_background.blit(self.__pig_image, (0, 0))\n",
    "\n",
    "        self.__rock_image = pygame.image.load('Env/icons/rocks.png')\n",
    "        self.__rock_image = pygame.transform.scale(self.__rock_image, (self.__tile_size, self.__tile_size))\n",
    "        self.__rock_with_background = pygame.Surface((self.__tile_size, self.__tile_size))\n",
    "        self.__rock_with_background.fill(background)\n",
    "        self.__rock_with_background.blit(self.__rock_image, (0, 0))\n",
    "\n",
    "\n",
    "    def __generate_grid(self):\n",
    "        grid = [['T' for _ in range(self.__grid_size)] for _ in range(self.__grid_size)]\n",
    "\n",
    "        with open(f'Env/templates/{self.__template_name}.txt') as file:\n",
    "            template_str = file.readlines()\n",
    "\n",
    "        for i in range(self.__grid_size):\n",
    "            for j in range(self.__grid_size):\n",
    "                grid[i][j] = template_str[i][j]\n",
    "\n",
    "        return grid\n",
    "\n",
    "    def reset(self):\n",
    "        self.grid = copy.deepcopy(self.__base_grid)\n",
    "\n",
    "    def bird_step(self, action):\n",
    "        bird_pos = self.get_bird_position()\n",
    "        actions = {\n",
    "            0: (-1, 0),  # Up\n",
    "            1: (1, 0),   # Down\n",
    "            2: (0, -1),  # Left\n",
    "            3: (0, 1)    # Right\n",
    "        }\n",
    "\n",
    "        dx, dy = actions[action]\n",
    "        new_row, new_col = bird_pos[0] + dx, bird_pos[1] + dy\n",
    "\n",
    "        if self.__is_valid_for_bird_position(self.grid, new_row, new_col):\n",
    "            self.grid[bird_pos[0]][bird_pos[1]] = 'T'\n",
    "            bird_pos = (new_row, new_col)\n",
    "            self.grid[bird_pos[0]][bird_pos[1]] = 'B'\n",
    "\n",
    "        is_win = self.is_win()\n",
    "        return bird_pos, is_win\n",
    "\n",
    "\n",
    "    def get_bird_position(self):\n",
    "        for r in range(len(self.grid)):\n",
    "            for c in range(len(self.grid)):\n",
    "                if self.grid[r][c] == 'B':\n",
    "                    return tuple([r, c])\n",
    "\n",
    "\n",
    "    def is_win(self):\n",
    "        for r in range(len(self.grid)):\n",
    "            for c in range(len(self.grid)):\n",
    "                if self.grid[r][c] == 'P':\n",
    "                    return False\n",
    "        return True\n",
    "\n",
    "\n",
    "    def render(self, screen):\n",
    "        for r in range(self.__grid_size):\n",
    "            for c in range(self.__grid_size):\n",
    "                color = background\n",
    "                pygame.draw.rect(screen, color, (c * self.__tile_size, r * self.__tile_size, self.__tile_size,\n",
    "                                                 self.__tile_size))\n",
    "                if self.grid[r][c] == 'B':\n",
    "                    screen.blit(self.__bird_with_background, (c * self.__tile_size, r * self.__tile_size))\n",
    "\n",
    "                if self.grid[r][c] == 'R':\n",
    "                    screen.blit(self.__rock_with_background, (c * self.__tile_size, r * self.__tile_size))\n",
    "\n",
    "                if self.grid[r][c] == 'P':\n",
    "                    screen.blit(self.__pig_with_background, (c * self.__tile_size, r * self.__tile_size))\n",
    "\n",
    "        for r in range(self.__grid_size + 1):\n",
    "            pygame.draw.line(screen, (0, 0, 0), (0, r * self.__tile_size), (self.__grid_size * self.__tile_size,\n",
    "                                                                            r * self.__tile_size), 2)\n",
    "        for c in range(self.__grid_size + 1):\n",
    "            pygame.draw.line(screen, (0, 0, 0), (c * self.__tile_size, 0), (c * self.__tile_size,\n",
    "                                                                            self.__grid_size * self.__tile_size), 2)\n",
    "            \n",
    "        if self.is_win():\n",
    "            font = pygame.font.Font(None, 74)\n",
    "            text = font.render(\"You Win!\", True, (255, 255, 255))\n",
    "            screen.blit(text, (self.__grid_size * self.__tile_size // 3, self.__grid_size * self.__tile_size // 3))\n",
    "\n",
    "    @classmethod\n",
    "    def __is_valid_for_bird_position(cls, grid, new_row, new_col):\n",
    "        return (0 <= new_row < len(grid)\n",
    "                and 0 <= new_col < len(grid)\n",
    "                and grid[new_row][new_col] != 'R')"
   ],
   "metadata": {
    "id": "Je7CRZQ9dYqc",
    "ExecuteTime": {
     "end_time": "2025-01-16T18:10:44.988730Z",
     "start_time": "2025-01-16T18:10:44.976285Z"
    }
   },
   "outputs": [],
   "execution_count": 11
  },
  {
   "cell_type": "markdown",
   "source": "## Knowledge base",
   "metadata": {
    "collapsed": false,
    "id": "kLJVR7crdYqd"
   }
  },
  {
   "cell_type": "code",
   "source": [
    "prolog = Prolog()\n",
    "prolog.consult(\"x.pl\")\n",
    "prolog.query(\"load_positions_from_file('Env/templates/simple.txt')\")\n"
   ],
   "metadata": {
    "id": "EZGCqAogdYqd",
    "ExecuteTime": {
     "end_time": "2025-01-16T18:10:45.018266Z",
     "start_time": "2025-01-16T18:10:45.008300Z"
    }
   },
   "outputs": [
    {
     "data": {
      "text/plain": [
       "<generator object Prolog._QueryWrapper.__call__ at 0x0000028D27A2ED90>"
      ]
     },
     "execution_count": 12,
     "metadata": {},
     "output_type": "execute_result"
    }
   ],
   "execution_count": 12
  },
  {
   "cell_type": "markdown",
   "source": "## Game",
   "metadata": {
    "collapsed": false,
    "id": "zX4W0qrcdYqd"
   }
  },
  {
   "cell_type": "code",
   "source": [
    "env = FirstOrderAngry(template='simple')\n",
    "\n",
    "bird_pos = env.get_bird_position()\n",
    "solutions = list(prolog.query(f\"solve_path_with_actions({bird_pos}, Actions)\"))\n",
    "print(solutions)\n",
    "\n",
    "screen, clock = PygameInit.initialization()\n",
    "FPS = 2\n",
    "\n",
    "env.reset()\n",
    "i = 0\n",
    "\n",
    "running = True\n",
    "while running:\n",
    "\n",
    "    for event in pygame.event.get():\n",
    "        if event.type == pygame.QUIT:\n",
    "            pygame.quit()\n",
    "\n",
    "    if solutions:\n",
    "        actions = solutions[0]['Actions']\n",
    "        if actions:\n",
    "            \n",
    "            # Apply Action\n",
    "            bird_pos, is_win = env.bird_step(actions[i])\n",
    "            i += 1\n",
    "            env.render(screen)\n",
    "\n",
    "            if is_win:\n",
    "                print(f'Win')\n",
    "                running = False\n",
    "\n",
    "    pygame.display.flip()\n",
    "    clock.tick(FPS)\n",
    "\n",
    "pygame.quit()"
   ],
   "metadata": {
    "id": "m2DALNGadYqe",
    "outputId": "e4f2bfe2-2aa9-4ba3-dd6c-e2c903c0e8fd",
    "ExecuteTime": {
     "end_time": "2025-01-16T19:19:28.931292Z",
     "start_time": "2025-01-16T18:10:45.063143Z"
    }
   },
   "outputs": [
    {
     "name": "stdout",
     "output_type": "stream",
     "text": [
      "[{'Actions': []}]\n"
     ]
    },
    {
     "ename": "error",
     "evalue": "video system not initialized",
     "output_type": "error",
     "traceback": [
      "\u001B[1;31m---------------------------------------------------------------------------\u001B[0m",
      "\u001B[1;31merror\u001B[0m                                     Traceback (most recent call last)",
      "Cell \u001B[1;32mIn[13], line 33\u001B[0m\n\u001B[0;32m     30\u001B[0m                 \u001B[38;5;28mprint\u001B[39m(\u001B[38;5;124mf\u001B[39m\u001B[38;5;124m'\u001B[39m\u001B[38;5;124mWin\u001B[39m\u001B[38;5;124m'\u001B[39m)\n\u001B[0;32m     31\u001B[0m                 running \u001B[38;5;241m=\u001B[39m \u001B[38;5;28;01mFalse\u001B[39;00m\n\u001B[1;32m---> 33\u001B[0m     \u001B[43mpygame\u001B[49m\u001B[38;5;241;43m.\u001B[39;49m\u001B[43mdisplay\u001B[49m\u001B[38;5;241;43m.\u001B[39;49m\u001B[43mflip\u001B[49m\u001B[43m(\u001B[49m\u001B[43m)\u001B[49m\n\u001B[0;32m     34\u001B[0m     clock\u001B[38;5;241m.\u001B[39mtick(FPS)\n\u001B[0;32m     36\u001B[0m pygame\u001B[38;5;241m.\u001B[39mquit()\n",
      "\u001B[1;31merror\u001B[0m: video system not initialized"
     ]
    }
   ],
   "execution_count": 13
  }
 ],
 "metadata": {
  "kernelspec": {
   "display_name": "Python 3",
   "language": "python",
   "name": "python3"
  },
  "language_info": {
   "codemirror_mode": {
    "name": "ipython",
    "version": 2
   },
   "file_extension": ".py",
   "mimetype": "text/x-python",
   "name": "python",
   "nbconvert_exporter": "python",
   "pygments_lexer": "ipython2",
   "version": "2.7.6"
  },
  "colab": {
   "provenance": []
  }
 },
 "nbformat": 4,
 "nbformat_minor": 0
}
